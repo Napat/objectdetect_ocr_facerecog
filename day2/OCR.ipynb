{
 "cells": [
  {
   "cell_type": "code",
   "execution_count": 1,
   "id": "4629923e",
   "metadata": {},
   "outputs": [],
   "source": [
    "import cv2\n",
    "import pytesseract"
   ]
  },
  {
   "cell_type": "code",
   "execution_count": 2,
   "id": "c527466c",
   "metadata": {},
   "outputs": [
    {
     "data": {
      "text/plain": [
       "-1"
      ]
     },
     "execution_count": 2,
     "metadata": {},
     "output_type": "execute_result"
    }
   ],
   "source": [
    "#img = cv2.imread(\"ocr_dataset/File/Welcome.jpg\")\n",
    "#img = cv2.imread(\"ocr_dataset/File/Text.jpg\")\n",
    "img = cv2.imread(\"ocr_dataset/File/Thai.jpg\")\n",
    "\n",
    "#print(img)  # This line should print [[[255 255 255] ... \n",
    "            # if not then check image path\n",
    "\n",
    "cv2.imshow(\"Image\", img)\n",
    "# cv2.waitKey(0)    # *** Press any key to continue ***\n",
    "cv2.waitKey(1000) # should return output -1 after 1 sec\n",
    "\n"
   ]
  },
  {
   "cell_type": "code",
   "execution_count": 3,
   "id": "7eefaf69",
   "metadata": {},
   "outputs": [
    {
     "name": "stdout",
     "output_type": "stream",
     "text": [
      "Tesseract OCR\n",
      "\n",
      "การสกัดข้อความ\n",
      "จากรูปภาพ\n",
      "\f",
      "\n"
     ]
    }
   ],
   "source": [
    "# image to string using pytesseract\n",
    "imgchar = pytesseract.image_to_string(img, lang=\"tha+eng\")\n",
    "print(imgchar)"
   ]
  },
  {
   "cell_type": "code",
   "execution_count": 4,
   "id": "5a0241a3",
   "metadata": {},
   "outputs": [
    {
     "name": "stdout",
     "output_type": "stream",
     "text": [
      "T 47 308 101 370 0\n",
      "e 97 308 135 350 0\n",
      "s 145 308 180 350 0\n",
      "s 190 308 225 350 0\n",
      "e 233 308 272 350 0\n",
      "r 280 308 316 350 0\n",
      "a 320 308 367 350 0\n",
      "c 372 308 412 350 0\n",
      "t 417 308 450 365 0\n",
      "O 480 308 542 371 0\n",
      "C 552 308 608 371 0\n",
      "R 619 308 673 371 0\n",
      "n 133 190 165 229 0\n",
      "I 171 190 198 229 0\n",
      "s 205 190 237 229 0\n",
      "a 242 190 274 232 0\n",
      "N 281 190 319 249 0\n",
      "A 321 190 354 229 0\n",
      "Y 361 190 397 251 0\n",
      "O 401 190 433 229 0\n",
      "A 442 190 475 229 0\n",
      "I 480 190 508 229 0\n",
      "W 515 190 584 229 0\n",
      "V 205 110 237 149 0\n",
      "I 242 110 269 149 0\n",
      "N 277 110 309 149 0\n",
      "G 315 87 347 149 0\n",
      "U 351 110 390 163 0\n",
      "N 397 110 432 149 0\n",
      "I 438 110 465 149 0\n",
      "W 471 110 510 149 0\n",
      "\n"
     ]
    }
   ],
   "source": [
    "# Get bounding box estimates\n",
    "imgbox = pytesseract.image_to_boxes(img)\n",
    "print(imgbox)"
   ]
  },
  {
   "cell_type": "code",
   "execution_count": 5,
   "id": "b45f68b6",
   "metadata": {},
   "outputs": [
    {
     "name": "stdout",
     "output_type": "stream",
     "text": [
      "['T 47 308 101 370 0', 'e 97 308 135 350 0', 's 145 308 180 350 0', 's 190 308 225 350 0', 'e 233 308 272 350 0', 'r 280 308 316 350 0', 'a 320 308 367 350 0', 'c 372 308 412 350 0', 't 417 308 450 365 0', 'O 480 308 542 371 0', 'C 552 308 608 371 0', 'R 619 308 673 371 0', 'n 133 190 165 229 0', 'I 171 190 198 229 0', 's 205 190 237 229 0', 'a 242 190 274 232 0', 'N 281 190 319 249 0', 'A 321 190 354 229 0', 'Y 361 190 397 251 0', 'O 401 190 433 229 0', 'A 442 190 475 229 0', 'I 480 190 508 229 0', 'W 515 190 584 229 0', 'V 205 110 237 149 0', 'I 242 110 269 149 0', 'N 277 110 309 149 0', 'G 315 87 347 149 0', 'U 351 110 390 163 0', 'N 397 110 432 149 0', 'I 438 110 465 149 0', 'W 471 110 510 149 0']\n"
     ]
    }
   ],
   "source": [
    "imgboxsplit = imgbox.splitlines()\n",
    "print(imgboxsplit)"
   ]
  },
  {
   "cell_type": "code",
   "execution_count": 6,
   "id": "bc7a4176",
   "metadata": {},
   "outputs": [
    {
     "name": "stdout",
     "output_type": "stream",
     "text": [
      "458 720\n"
     ]
    }
   ],
   "source": [
    "imgH, imgW = img.shape[:2]\n",
    "print(imgH, imgW)"
   ]
  },
  {
   "cell_type": "code",
   "execution_count": 7,
   "id": "f9558d9b",
   "metadata": {},
   "outputs": [
    {
     "name": "stdout",
     "output_type": "stream",
     "text": [
      "['T', '47', '308', '101', '370', '0']\n",
      "['e', '97', '308', '135', '350', '0']\n",
      "['s', '145', '308', '180', '350', '0']\n",
      "['s', '190', '308', '225', '350', '0']\n",
      "['e', '233', '308', '272', '350', '0']\n",
      "['r', '280', '308', '316', '350', '0']\n",
      "['a', '320', '308', '367', '350', '0']\n",
      "['c', '372', '308', '412', '350', '0']\n",
      "['t', '417', '308', '450', '365', '0']\n",
      "['O', '480', '308', '542', '371', '0']\n",
      "['C', '552', '308', '608', '371', '0']\n",
      "['R', '619', '308', '673', '371', '0']\n",
      "['n', '133', '190', '165', '229', '0']\n",
      "['I', '171', '190', '198', '229', '0']\n",
      "['s', '205', '190', '237', '229', '0']\n",
      "['a', '242', '190', '274', '232', '0']\n",
      "['N', '281', '190', '319', '249', '0']\n",
      "['A', '321', '190', '354', '229', '0']\n",
      "['Y', '361', '190', '397', '251', '0']\n",
      "['O', '401', '190', '433', '229', '0']\n",
      "['A', '442', '190', '475', '229', '0']\n",
      "['I', '480', '190', '508', '229', '0']\n",
      "['W', '515', '190', '584', '229', '0']\n",
      "['V', '205', '110', '237', '149', '0']\n",
      "['I', '242', '110', '269', '149', '0']\n",
      "['N', '277', '110', '309', '149', '0']\n",
      "['G', '315', '87', '347', '149', '0']\n",
      "['U', '351', '110', '390', '163', '0']\n",
      "['N', '397', '110', '432', '149', '0']\n",
      "['I', '438', '110', '465', '149', '0']\n",
      "['W', '471', '110', '510', '149', '0']\n"
     ]
    }
   ],
   "source": [
    "linethickness = 3 \n",
    "fontsize = 2 \n",
    "for boxes in imgboxsplit:\n",
    "    boxes = boxes.split(' ')\n",
    "    print(boxes)    # [char, xpos, ypos, weight, height, ]\n",
    "                    # ['W', '84', '563', '216', '669', '0']\n",
    "                    # ['e', '126', '562', '287', '675', '0'] \n",
    "    \n",
    "    x, y, w, h = int(boxes[1]), int(boxes[2]), int(boxes[3]), int(boxes[4])\n",
    "    \n",
    "    cv2.rectangle(img, (x, imgH-y), (w, imgH-h), (0,0,255), linethickness)  \n",
    "    cv2.putText(img, boxes[0], (x, imgH-y+30), cv2.FONT_HERSHEY_SIMPLEX, 1, (255,0,0), fontsize)\n"
   ]
  },
  {
   "cell_type": "code",
   "execution_count": 8,
   "id": "3e50281b",
   "metadata": {},
   "outputs": [
    {
     "data": {
      "text/plain": [
       "-1"
      ]
     },
     "execution_count": 8,
     "metadata": {},
     "output_type": "execute_result"
    }
   ],
   "source": [
    "cv2.putText(img, imgchar, (int(imgH/50), int(imgW/20)), cv2.FONT_HERSHEY_SIMPLEX, 1, (0, 0, 0), fontsize)\n",
    "cv2.imshow(\"Result\", img)\n",
    "cv2.waitKey(5000) # wait 5 sec"
   ]
  },
  {
   "cell_type": "code",
   "execution_count": 9,
   "id": "1bb40c90",
   "metadata": {},
   "outputs": [],
   "source": [
    "# save ocr to text file\n",
    "imgcharsplit = imgchar.splitlines()\n",
    "with open('Workshop2.txt', 'w', encoding='UTF-8') as result:\n",
    "    for line in imgcharsplit:\n",
    "        if(line !=''):\n",
    "            result.write(line)\n",
    "            result.write('\\n')"
   ]
  },
  {
   "cell_type": "code",
   "execution_count": null,
   "id": "43c82d41",
   "metadata": {},
   "outputs": [],
   "source": []
  }
 ],
 "metadata": {
  "kernelspec": {
   "display_name": "Python 3 (ipykernel)",
   "language": "python",
   "name": "python3"
  },
  "language_info": {
   "codemirror_mode": {
    "name": "ipython",
    "version": 3
   },
   "file_extension": ".py",
   "mimetype": "text/x-python",
   "name": "python",
   "nbconvert_exporter": "python",
   "pygments_lexer": "ipython3",
   "version": "3.8.11"
  }
 },
 "nbformat": 4,
 "nbformat_minor": 5
}
