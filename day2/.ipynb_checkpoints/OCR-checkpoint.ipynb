{
 "cells": [
  {
   "cell_type": "code",
   "execution_count": 1,
   "id": "4629923e",
   "metadata": {},
   "outputs": [],
   "source": [
    "import cv2\n",
    "import pytesseract"
   ]
  },
  {
   "cell_type": "code",
   "execution_count": 2,
   "id": "c527466c",
   "metadata": {},
   "outputs": [
    {
     "data": {
      "text/plain": [
       "-1"
      ]
     },
     "execution_count": 2,
     "metadata": {},
     "output_type": "execute_result"
    }
   ],
   "source": [
    "img = cv2.imread(\"ocr_dataset/File/Welcome.jpg\")\n",
    "#print(img)  # This line should print [[[255 255 255] ... \n",
    "            # if not then check image path\n",
    "\n",
    "# cv2.imshow(\"Image\", img)\n",
    "# cv2.waitKey(0)    # *** Press any key to continue ***\n",
    "# cv2.waitKey(1000) # should return output -1 after 1 sec\n",
    "\n"
   ]
  },
  {
   "cell_type": "code",
   "execution_count": 3,
   "id": "f977a13b",
   "metadata": {},
   "outputs": [
    {
     "name": "stdout",
     "output_type": "stream",
     "text": [
      "Welcome\n",
      "To\n",
      "Workshop\n",
      "\f",
      "\n"
     ]
    }
   ],
   "source": [
    "# image to string using pytesseract\n",
    "imgchar = pytesseract.image_to_string(img)\n",
    "print(imgchar)\n",
    "\n"
   ]
  },
  {
   "cell_type": "code",
   "execution_count": 4,
   "id": "e5f152d0",
   "metadata": {},
   "outputs": [
    {
     "name": "stdout",
     "output_type": "stream",
     "text": [
      "W 84 563 216 669 0\n",
      "e 126 562 287 675 0\n",
      "l 222 562 339 675 0\n",
      "c 348 562 412 635 0\n",
      "o 424 562 494 635 0\n",
      "m 504 562 638 634 0\n",
      "e 650 562 715 635 0\n",
      "T 320 363 410 466 0\n",
      "o 403 362 473 435 0\n",
      "W 54 163 186 269 0\n",
      "o 89 126 247 275 0\n",
      "r 192 162 262 235 0\n",
      "k 274 162 334 234 0\n",
      "s 347 162 416 275 0\n",
      "h 429 162 489 235 0\n",
      "o 507 162 584 275 0\n",
      "p 592 126 746 235 0\n",
      "\n"
     ]
    }
   ],
   "source": [
    "# Get bounding box estimates\n",
    "imgbox = pytesseract.image_to_boxes(img)\n",
    "print(imgbox)"
   ]
  },
  {
   "cell_type": "code",
   "execution_count": 5,
   "id": "b45f68b6",
   "metadata": {},
   "outputs": [
    {
     "name": "stdout",
     "output_type": "stream",
     "text": [
      "['W 84 563 216 669 0', 'e 126 562 287 675 0', 'l 222 562 339 675 0', 'c 348 562 412 635 0', 'o 424 562 494 635 0', 'm 504 562 638 634 0', 'e 650 562 715 635 0', 'T 320 363 410 466 0', 'o 403 362 473 435 0', 'W 54 163 186 269 0', 'o 89 126 247 275 0', 'r 192 162 262 235 0', 'k 274 162 334 234 0', 's 347 162 416 275 0', 'h 429 162 489 235 0', 'o 507 162 584 275 0', 'p 592 126 746 235 0']\n"
     ]
    }
   ],
   "source": [
    "imgboxsplit = imgbox.splitlines()\n",
    "print(imgboxsplit)"
   ]
  },
  {
   "cell_type": "code",
   "execution_count": 6,
   "id": "bc7a4176",
   "metadata": {},
   "outputs": [
    {
     "name": "stdout",
     "output_type": "stream",
     "text": [
      "800 800\n"
     ]
    }
   ],
   "source": [
    "imgH, imgW = img.shape[:2]\n",
    "print(imgH, imgW)"
   ]
  },
  {
   "cell_type": "code",
   "execution_count": 7,
   "id": "f9558d9b",
   "metadata": {},
   "outputs": [
    {
     "name": "stdout",
     "output_type": "stream",
     "text": [
      "['W', '84', '563', '216', '669', '0']\n",
      "['e', '126', '562', '287', '675', '0']\n",
      "['l', '222', '562', '339', '675', '0']\n",
      "['c', '348', '562', '412', '635', '0']\n",
      "['o', '424', '562', '494', '635', '0']\n",
      "['m', '504', '562', '638', '634', '0']\n",
      "['e', '650', '562', '715', '635', '0']\n",
      "['T', '320', '363', '410', '466', '0']\n",
      "['o', '403', '362', '473', '435', '0']\n",
      "['W', '54', '163', '186', '269', '0']\n",
      "['o', '89', '126', '247', '275', '0']\n",
      "['r', '192', '162', '262', '235', '0']\n",
      "['k', '274', '162', '334', '234', '0']\n",
      "['s', '347', '162', '416', '275', '0']\n",
      "['h', '429', '162', '489', '235', '0']\n",
      "['o', '507', '162', '584', '275', '0']\n",
      "['p', '592', '126', '746', '235', '0']\n"
     ]
    }
   ],
   "source": [
    "linethickness = 3 \n",
    "fontsize = 2 \n",
    "for boxes in imgboxsplit:\n",
    "    boxes = boxes.split(' ')\n",
    "    print(boxes)    # [char, xpos, ypos, weight, height, ]\n",
    "                    # ['W', '84', '563', '216', '669', '0']\n",
    "                    # ['e', '126', '562', '287', '675', '0'] \n",
    "    \n",
    "    x, y, w, h = int(boxes[1]), int(boxes[2]), int(boxes[3]), int(boxes[4])\n",
    "    \n",
    "    cv2.rectangle(img, (x, imgH-y), (w, imgH-h), (0,0,255), linethickness)  \n",
    "    cv2.putText(img, boxes[0], (x, imgH-y+30), cv2.FONT_HERSHEY_SIMPLEX, 1, (255,0,0), fontsize)\n",
    "    \n",
    "    cv2.imshow(\"Image\", img)"
   ]
  },
  {
   "cell_type": "code",
   "execution_count": null,
   "id": "9f4aecb3",
   "metadata": {},
   "outputs": [],
   "source": []
  }
 ],
 "metadata": {
  "kernelspec": {
   "display_name": "Python 3 (ipykernel)",
   "language": "python",
   "name": "python3"
  },
  "language_info": {
   "codemirror_mode": {
    "name": "ipython",
    "version": 3
   },
   "file_extension": ".py",
   "mimetype": "text/x-python",
   "name": "python",
   "nbconvert_exporter": "python",
   "pygments_lexer": "ipython3",
   "version": "3.8.11"
  }
 },
 "nbformat": 4,
 "nbformat_minor": 5
}
